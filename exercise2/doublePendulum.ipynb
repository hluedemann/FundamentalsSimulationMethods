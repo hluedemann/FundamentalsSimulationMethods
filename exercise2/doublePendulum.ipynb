{
 "cells": [
  {
   "cell_type": "markdown",
   "metadata": {},
   "source": [
    "## Numerical description of the double pendulum"
   ]
  },
  {
   "cell_type": "code",
   "execution_count": 1,
   "metadata": {},
   "outputs": [],
   "source": [
    "import numpy as np\n",
    "import matplotlib.pyplot as plt"
   ]
  },
  {
   "cell_type": "code",
   "execution_count": 2,
   "metadata": {},
   "outputs": [],
   "source": [
    "# Define the constants\n",
    "m1 = 0.5\n",
    "m2 = 1.0\n",
    "l1 = 2.0\n",
    "l2 = 1.0\n",
    "g = 1.0\n",
    "\n",
    "# Initial conditions\n",
    "phi1_0 = np.radians(50.0)\n",
    "phi2_0 = np.radians(-120.0)\n",
    "phiDot1_0 = 0.0\n",
    "phiDot2_0 = 0.0\n",
    "\n",
    "# Time step\n",
    "dt = 0.05\n",
    "numSteps = 2000"
   ]
  },
  {
   "cell_type": "code",
   "execution_count": 3,
   "metadata": {},
   "outputs": [],
   "source": [
    "# Define the functions\n",
    "\n",
    "def f1(phi1, phi2, q1, q2):\n",
    "    x = (q1 - q2 * (l1 / l2) * np.cos(phi1 - phi2)) / \\\n",
    "        ((m1 + m2) * l1**2 - l1**2 * m2 * np.cos(phi1 - phi2)**2)\n",
    "    return x\n",
    "\n",
    "def f2(phi1, phi2, q1, q2):\n",
    "    x = ((m1 + m2) * l1**2 * q2 - l1 * l2 * m2 * np.cos(phi1 - phi2) * q1) \\\n",
    "        / (l1**2 * l2**2 * m2 * ((m1 + m2) - m2 * np.cos(phi1 - phi2)**2))\n",
    "    return x\n",
    "\n",
    "def f3(phi1, phi2, q1, q2):\n",
    "    x = -m1 * l1 * l2 * f1(phi1, phi2, q1, q2) * f2(phi1, phi2, q1, q2) * \\\n",
    "        np.sin(phi1 - phi2) - g * l1 * (m1 + m2) * np.sin(phi1)\n",
    "    return x\n",
    "\n",
    "def f4(phi1, phi2, q1, q2):\n",
    "    x = m2 * l1 * l2 * f1(phi1, phi2, q1, q2) * f2(phi1, phi2, q1, q2) * \\\n",
    "        np.sin(phi1 - phi2) - m2 * g * l2 * np.sin(phi2)\n",
    "    return x\n"
   ]
  },
  {
   "cell_type": "code",
   "execution_count": 4,
   "metadata": {},
   "outputs": [],
   "source": [
    "# Runge Kutta sceme of second order\n",
    "\n",
    "def RK2(phi1, phi2, q1, q2):\n",
    "    \n",
    "    k11 = f1(phi1, phi2, q1, q2)\n",
    "    k12 = f2(phi1, phi2, q1, q2)\n",
    "    k13 = f3(phi1, phi2, q1, q2)\n",
    "    k14 = f4(phi1, phi2, q1, q2)\n",
    "        \n",
    "    k21 = f1(phi1 + dt * k11, phi2 + dt * k12, q1 + dt * k13, q2 + dt * k14)\n",
    "    k22 = f2(phi1 + dt * k11, phi2 + dt * k12, q1 + dt * k13, q2 + dt * k14)\n",
    "    k23 = f3(phi1 + dt * k11, phi2 + dt * k12, q1 + dt * k13, q2 + dt * k14)\n",
    "    k24 = f4(phi1 + dt * k11, phi2 + dt * k12, q1 + dt * k13, q2 + dt * k14)\n",
    "    \n",
    "    phi1Next = phi1 + 0.5 * (k11 + k21) * dt\n",
    "    phi2Next = phi2 + 0.5 * (k12 + k22) * dt\n",
    "    q1Next = q1 + 0.5 * (k13 + k23) * dt\n",
    "    q2Next = q2 + 0.5 * (k14 + k24) * dt\n",
    "    \n",
    "    \"\"\"\n",
    "    print(\"Phi1: {}\".format(phi1))\n",
    "    print(\"Phi2: {}\".format(phi2))\n",
    "    print(\"Q1: {}\".format(q1))\n",
    "    print(\"Q2: {}\".format(q2))\n",
    "    print(\"\\n\")\n",
    "    \"\"\"\n",
    "    \"\"\"\n",
    "    print(\"k11: {}\".format(k11))\n",
    "    print(\"k12: {}\".format(k12))\n",
    "    print(\"k13: {}\".format(k13))\n",
    "    print(\"k14: {}\".format(k14))\n",
    "    \"\"\"\n",
    "    \"\"\"\n",
    "    print(\"k11: {}\".format(k21))\n",
    "    print(\"k12: {}\".format(k22))\n",
    "    print(\"k13: {}\".format(k23))\n",
    "    print(\"k14: {}\".format(k24))\n",
    "    print(\"\\n\")\n",
    "    \"\"\"\n",
    "    \n",
    "    return phi1Next, phi2Next, q1Next, q2Next\n",
    "\n"
   ]
  },
  {
   "cell_type": "code",
   "execution_count": 5,
   "metadata": {},
   "outputs": [],
   "source": [
    "def RK4(phi1, phi2, q1, q2):\n",
    "    \n",
    "    k11 = f1(phi1, phi2, q1, q2)\n",
    "    k12 = f2(phi1, phi2, q1, q2)\n",
    "    k13 = f3(phi1, phi2, q1, q2)\n",
    "    k14 = f4(phi1, phi2, q1, q2)\n",
    "        \n",
    "    k21 = f1(phi1 + 0.5*dt * k11, phi2 + 0.5*dt * k12, q1 + 0.5*dt * k13, q2 + 0.5*dt * k14)\n",
    "    k22 = f2(phi1 + 0.5*dt * k11, phi2 + 0.5*dt * k12, q1 + 0.5*dt * k13, q2 + 0.5*dt * k14)\n",
    "    k23 = f3(phi1 + 0.5*dt * k11, phi2 + 0.5*dt * k12, q1 + 0.5*dt * k13, q2 + 0.5*dt * k14)\n",
    "    k24 = f4(phi1 + 0.5*dt * k11, phi2 + 0.5*dt * k12, q1 + 0.5*dt * k13, q2 + 0.5*dt * k14)\n",
    "    \n",
    "    k31 = f1(phi1 + 0.5*dt * k21, phi2 + 0.5*dt * k22, q1 + 0.5*dt * k23, q2 + 0.5*dt * k24)\n",
    "    k32 = f2(phi1 + 0.5*dt * k21, phi2 + 0.5*dt * k22, q1 + 0.5*dt * k23, q2 + 0.5*dt * k24)\n",
    "    k33 = f3(phi1 + 0.5*dt * k21, phi2 + 0.5*dt * k22, q1 + 0.5*dt * k23, q2 + 0.5*dt * k24)\n",
    "    k34 = f4(phi1 + 0.5*dt * k21, phi2 + 0.5*dt * k22, q1 + 0.5*dt * k23, q2 + 0.5*dt * k24)\n",
    "    \n",
    "    k41 = f1(phi1 + dt * k31, phi2 + dt * k32, q1 + dt * k33, q2 + dt * k34)\n",
    "    k42 = f2(phi1 + dt * k31, phi2 + dt * k32, q1 + dt * k33, q2 + dt * k34)\n",
    "    k43 = f3(phi1 + dt * k31, phi2 + dt * k32, q1 + dt * k33, q2 + dt * k34)\n",
    "    k44 = f4(phi1 + dt * k31, phi2 + dt * k32, q1 + dt * k33, q2 + dt * k34)\n",
    "    \n",
    "    phi1Next = phi1 + 1.0 / 6.0 * (k11 + 2.0 * k21 + 2.0 * k31 + k41) * dt\n",
    "    phi2Next = phi2 + 1.0 / 6.0 * (k12 + 2.0 * k22 + 2.0 * k32 + k42) * dt\n",
    "    q1Next = q1 + 1.0 / 6.0 * (k13 + 2.0 * k23 + 2.0 * k33 + k43) * dt\n",
    "    q2Next = q2 + 1.0 / 6.0 * (k14 + 2.0 * k24 + 2.0 * k34 + k44) * dt\n",
    "    \n",
    "    \"\"\"\n",
    "    print(\"Phi1: {}\".format(phi1Next))\n",
    "    print(\"Phi2: {}\".format(phi2Next))\n",
    "    print(\"Q1: {}\".format(q1Next))\n",
    "    print(\"Q2: {}\".format(q2Next))\n",
    "    print(\"\\n\")\n",
    "    \n",
    "    print(\"k13: {}\".format(k13))\n",
    "    print(\"k23: {}\".format(k23))\n",
    "    print(\"k33: {}\".format(k33))\n",
    "    print(\"k43: {}\".format(k43))\n",
    "    print(\"\\n\")\n",
    "    \"\"\"\n",
    "    \n",
    "    return phi1Next, phi2Next, q1Next, q2Next\n",
    "    "
   ]
  },
  {
   "cell_type": "code",
   "execution_count": 6,
   "metadata": {},
   "outputs": [],
   "source": [
    "# Calculate the energy\n",
    "\n",
    "def getEnergy(phi1, phi2, q1, q2):\n",
    "    \n",
    "    dtPhi1 = f1(phi1, phi2, q1, q2)\n",
    "    dtPhi2 = f2(phi1, phi2, q1, q2)\n",
    "    \n",
    "    x = m1 / 2.0 * (l1 * dtPhi1)**2 + \\\n",
    "        m2 / 2.0 * ((l1 * dtPhi1)**2 + \\\n",
    "                 (l2 * dtPhi2)**2 + \\\n",
    "                 2*l1*l2*dtPhi1 * \\\n",
    "                 dtPhi2 * np.cos(phi1 - phi2)) + \\\n",
    "    m1 * g * l1 * (1 - np.cos(phi1)) + m2 * g * \\\n",
    "    (l1 * (1 - np.cos(phi1)) + l2 * (1 - np.cos(phi2)))\n",
    "    \n",
    "    return x"
   ]
  },
  {
   "cell_type": "code",
   "execution_count": 7,
   "metadata": {},
   "outputs": [],
   "source": [
    "# Arrays to store the parameters of the different steps\n",
    "\n",
    "Phi1_ = np.zeros(numSteps)\n",
    "Phi2_ = np.zeros(numSteps)\n",
    "Q1_ = np.zeros(numSteps)\n",
    "Q2_ = np.zeros(numSteps)\n",
    "\n",
    "Phi1_[0] = phi1_0\n",
    "Phi2_[0] = phi2_0"
   ]
  },
  {
   "cell_type": "code",
   "execution_count": 8,
   "metadata": {},
   "outputs": [],
   "source": [
    "# Loop for the numerical integration\n",
    "\n",
    "energy_ = np.zeros(numSteps)\n",
    "times_ = np.zeros(numSteps)\n",
    "\n",
    "for i in range(0, numSteps-1):\n",
    "    \n",
    "    phi1Next, phi2Next, q1Next, q2Next = RK2(Phi1_[i], Phi2_[i], Q1_[i], Q2_[i])\n",
    "    \n",
    "    Phi1_[i + 1] = phi1Next\n",
    "    Phi2_[i + 1] = phi2Next\n",
    "    Q1_[i + 1] = q1Next\n",
    "    Q2_[i + 1] = q2Next\n",
    "    \n",
    "    times_[i] = dt * i\n",
    "    energy_[i] = getEnergy(Phi1_[i], Phi2_[i], Q1_[i], Q2_[i])\n",
    "    \n",
    "times_[numSteps-1] = dt * numSteps\n",
    "energy_[numSteps-1] = getEnergy(Phi1_[numSteps-1], Phi2_[numSteps-1], Q1_[numSteps-1], Q2_[numSteps-1])"
   ]
  },
  {
   "cell_type": "code",
   "execution_count": 9,
   "metadata": {},
   "outputs": [],
   "source": [
    "# Arrays to store the parameters of the different steps\n",
    "\n",
    "Phi1 = np.zeros(numSteps)\n",
    "Phi2 = np.zeros(numSteps)\n",
    "Q1 = np.zeros(numSteps)\n",
    "Q2 = np.zeros(numSteps)\n",
    "\n",
    "Phi1[0] = phi1_0\n",
    "Phi2[0] = phi2_0"
   ]
  },
  {
   "cell_type": "code",
   "execution_count": 10,
   "metadata": {},
   "outputs": [],
   "source": [
    "# Loop for the numerical integration\n",
    "\n",
    "energy = np.zeros(numSteps)\n",
    "times = np.zeros(numSteps)\n",
    "\n",
    "for i in range(0, numSteps-1):\n",
    "    \n",
    "    phi1Next, phi2Next, q1Next, q2Next = RK4(Phi1[i], Phi2[i], Q1[i], Q2[i])\n",
    "    \n",
    "    Phi1[i + 1] = phi1Next\n",
    "    Phi2[i + 1] = phi2Next\n",
    "    Q1[i + 1] = q1Next\n",
    "    Q2[i + 1] = q2Next\n",
    "    \n",
    "    times[i] = dt * i\n",
    "    energy[i] = getEnergy(Phi1[i], Phi2[i], Q1[i], Q2[i])\n",
    "    \n",
    "times[numSteps-1] = dt * numSteps\n",
    "energy[numSteps-1] = getEnergy(Phi1_[numSteps-1], Phi2_[numSteps-1], Q1_[numSteps-1], Q2_[numSteps-1])"
   ]
  },
  {
   "cell_type": "code",
   "execution_count": null,
   "metadata": {},
   "outputs": [],
   "source": []
  },
  {
   "cell_type": "code",
   "execution_count": 11,
   "metadata": {},
   "outputs": [],
   "source": [
    "def frame(phi1, phi2, phi1_arr, phi2_arr, t, num):\n",
    "    #length of the pendula\n",
    "    L1 = 2.\n",
    "    L2 = 1.\n",
    "    L = L1 + L2\n",
    "    \n",
    "    #create a new figure\n",
    "    fig = plt.figure(figsize=[8,8], facecolor='white')\n",
    "    axes = fig.gca()\n",
    "\n",
    "    #proportional x and y axis\n",
    "    axes.axis(\"equal\")\n",
    "    #no coordinate labels\n",
    "    axes.set_axis_off()\n",
    "    #set the plot range in x and y direction\n",
    "    axes.set_ylim([-(L+0.2),(L+0.2)])\n",
    "    axes.set_xlim([-(L+0.2),(L+0.2)])\n",
    "    \n",
    "    \n",
    "    #calculate position of pendula\n",
    "    pos1 = np.zeros(2)\n",
    "    pos2 = np.zeros(2)\n",
    "    \n",
    "    pos1[0] = L1 * np.sin(phi1)\n",
    "    pos1[1] = - L1 * np.cos(phi1)\n",
    "    pos2[0] = pos1[0] + L2 * np.sin(phi2)\n",
    "    pos2[1] = pos1[1] - L2 * np.cos(phi2)\n",
    "    \n",
    "    #plot the two pendula\n",
    "    c0 = plt.Circle([0.,0.],.07, color='k', zorder=100)\n",
    "    c1 = plt.Circle(pos1,.05, color='r', zorder=100)\n",
    "    c2 = plt.Circle(pos2,.05, color='b', zorder=100)\n",
    "    axes.add_artist(c0)\n",
    "    axes.add_artist(c1)\n",
    "    axes.add_artist(c2)\n",
    "    \n",
    "    #plot the two limbs\n",
    "    axes.plot([0., pos1[0]], [0., pos1[1]], color='k', linewidth=2, zorder=50)\n",
    "    axes.plot([pos1[0], pos2[0]], [pos1[1], pos2[1]], color='k', linewidth=2, zorder=50)\n",
    "    \n",
    "    #add the trajectory in the background\n",
    "    N = len(phi1_arr)\n",
    "    pos1_arr = np.zeros((N,2))\n",
    "    pos2_arr = np.zeros((N,2))\n",
    "    \n",
    "    pos1_arr[:,0] = L1 * np.sin(phi1_arr)\n",
    "    pos1_arr[:,1] = - L1 * np.cos(phi1_arr)\n",
    "    pos2_arr[:,0] = pos1_arr[:,0] + L2 * np.sin(phi2_arr)\n",
    "    pos2_arr[:,1] = pos1_arr[:,1] - L2 * np.cos(phi2_arr)\n",
    "    \n",
    "    axes.plot(pos1_arr[:,0], pos1_arr[:,1], color='r', linewidth = 0.5, zorder=0)\n",
    "    axes.plot(pos2_arr[:,0], pos2_arr[:,1], color='b', linewidth = 0.5, zorder=0)\n",
    "    \n",
    "    #add a time label\n",
    "    axes.text(0.7,0.85, \"T = %03.2f\"%t, transform = fig.transFigure, fontsize=16, horizontalalignment='left', verticalalignment='center')\n",
    "        \n",
    "    #save the figure\n",
    "    fig.savefig(\"frame_%04d.png\"%num, dpi=80)\n",
    "    \n",
    "    plt.close(fig)\n",
    "    \n",
    "    \n",
    "\n",
    "    \n"
   ]
  },
  {
   "cell_type": "code",
   "execution_count": 12,
   "metadata": {},
   "outputs": [
    {
     "data": {
      "text/plain": [
       "2.571637170940382"
      ]
     },
     "execution_count": 12,
     "metadata": {},
     "output_type": "execute_result"
    },
    {
     "data": {
      "image/png": "[encoded data removed]",
      "text/plain": [
       "<Figure size 432x288 with 1 Axes>"
      ]
     },
     "metadata": {
      "needs_background": "light"
     },
     "output_type": "display_data"
    }
   ],
   "source": [
    "energy / getEnergy(phi1_0, phi2_0, 0, 0)\n",
    "\n",
    "\n",
    "plt.plot(times, np.abs(energy / getEnergy(phi1_0, phi2_0, 0, 0)), \".b\")\n",
    "getEnergy(phi1_0, phi2_0, 0, 0)"
   ]
  },
  {
   "cell_type": "code",
   "execution_count": 13,
   "metadata": {},
   "outputs": [
    {
     "data": {
      "text/plain": [
       "2.571637170940382"
      ]
     },
     "execution_count": 13,
     "metadata": {},
     "output_type": "execute_result"
    },
    {
     "data": {
      "image/png": "[encoded data removed]",
      "text/plain": [
       "<Figure size 432x288 with 1 Axes>"
      ]
     },
     "metadata": {
      "needs_background": "light"
     },
     "output_type": "display_data"
    }
   ],
   "source": [
    "plt.plot(times_, np.abs(energy_ / getEnergy(phi1_0, phi2_0, 0, 0)), \".b\")\n",
    "getEnergy(phi1_0, phi2_0, 0, 0)"
   ]
  },
  {
   "cell_type": "code",
   "execution_count": 14,
   "metadata": {},
   "outputs": [],
   "source": [
    "#for i in np.arange(numSteps):\n",
    "#    frame(Phi1[i], Phi2[i], Phi1[:i+1], Phi2[:i+1], i*0.2, i)"
   ]
  }
 ],
 "metadata": {
  "kernelspec": {
   "display_name": "Python 3",
   "language": "python",
   "name": "python3"
  },
  "language_info": {
   "codemirror_mode": {
    "name": "ipython",
    "version": 3
   },
   "file_extension": ".py",
   "mimetype": "text/x-python",
   "name": "python",
   "nbconvert_exporter": "python",
   "pygments_lexer": "ipython3",
   "version": "3.7.4"
  }
 },
 "nbformat": 4,
 "nbformat_minor": 4
}
