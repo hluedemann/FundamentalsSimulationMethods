{
 "cells": [
  {
   "cell_type": "markdown",
   "metadata": {},
   "source": [
    "##  Part 2 - Performance of Monte Carlo integration in different dimensions"
   ]
  },
  {
   "cell_type": "code",
   "execution_count": 1,
   "metadata": {},
   "outputs": [],
   "source": [
    "import numpy as np\n",
    "from itertools import product\n",
    "import time"
   ]
  },
  {
   "cell_type": "code",
   "execution_count": 2,
   "metadata": {},
   "outputs": [],
   "source": [
    "def f(d, x):\n",
    "    res = 1\n",
    "    for i in range(d):\n",
    "        res *= 1.5 * (1 - x[i]**2)\n",
    "    return res"
   ]
  },
  {
   "cell_type": "code",
   "execution_count": 3,
   "metadata": {},
   "outputs": [],
   "source": [
    "def getPermutationMatrix(dim, n):\n",
    "    result = [[y for y in range(n)] for x in range(dim)]\n",
    "    return np.array(list(product(*result)))\n"
   ]
  },
  {
   "cell_type": "code",
   "execution_count": 4,
   "metadata": {},
   "outputs": [],
   "source": [
    "def midpoint(dim, f, n, dx):\n",
    "    x = (getPermutationMatrix(dim, n)+0.5)*dx\n",
    "\n",
    "    result = 0\n",
    "    \n",
    "    for i in range(len(x[:, 0])):\n",
    "        result += dx**dim * f(dim, x[i,:])\n",
    "        \n",
    "    return result"
   ]
  },
  {
   "cell_type": "code",
   "execution_count": 5,
   "metadata": {},
   "outputs": [],
   "source": [
    "def getRandomUniform(dim, N):\n",
    "    a = np.random.uniform(size=(N, dim+1))\n",
    "    a[:,-1] *= (3/2.)**dim\n",
    "    return a"
   ]
  },
  {
   "cell_type": "code",
   "execution_count": 6,
   "metadata": {},
   "outputs": [],
   "source": [
    "def monteCarloIntegration(N, dim, f):\n",
    "    data = getRandomUniform(dim, N)\n",
    "    \n",
    "    result = 0\n",
    "    \n",
    "    for i in range(N):\n",
    "        f_x = f(dim, data[i, 0:-1])\n",
    "        if data[i,-1] <= f_x:\n",
    "            result += 1\n",
    "    return result/float(N)*(3/2.)**dim"
   ]
  },
  {
   "cell_type": "markdown",
   "metadata": {},
   "source": [
    "### a)\n"
   ]
  },
  {
   "cell_type": "code",
   "execution_count": 7,
   "metadata": {},
   "outputs": [
    {
     "name": "stdout",
     "output_type": "stream",
     "text": [
      "Dimension 1, Volume 1.0034722222222223, Execution Time [s] 5.2928924560546875e-05\n",
      "Dimension 2, Volume 1.0069565007716053, Execution Time [s] 0.00013566017150878906\n",
      "Dimension 3, Volume 1.0104528775103947, Execution Time [s] 0.0009100437164306641\n",
      "Dimension 4, Volume 1.0139613944461952, Execution Time [s] 0.007242918014526367\n",
      "Dimension 5, Volume 1.0174820937324645, Execution Time [s] 0.04482841491699219\n",
      "Dimension 6, Volume 1.021015017669041, Execution Time [s] 0.30693912506103516\n",
      "Dimension 7, Volume 1.0245602087026713, Execution Time [s] 2.1464388370513916\n",
      "Dimension 8, Volume 1.0281177094262457, Execution Time [s] 14.784475803375244\n",
      "Dimension 9, Volume 1.0316875625869684, Execution Time [s] 104.36215400695801\n",
      "Dimension 10, Volume 1.0352698110744876, Execution Time [s] 639.979724407196\n"
     ]
    }
   ],
   "source": [
    "n = 6\n",
    "maxDim = 10\n",
    "xlim = 1.0\n",
    "dx = xlim / n\n",
    "\n",
    "for dim in range(1, maxDim+1):\n",
    "    time1 = time.time()\n",
    "    volume = midpoint(dim, f, n, dx)\n",
    "    time2 = time.time()\n",
    "    print(\"Dimension {}, Volume {}, Execution Time [s] {}\".format(dim, volume, time2- time1))\n"
   ]
  },
  {
   "cell_type": "markdown",
   "metadata": {},
   "source": [
    "### b)"
   ]
  },
  {
   "cell_type": "code",
   "execution_count": 8,
   "metadata": {},
   "outputs": [
    {
     "name": "stdout",
     "output_type": "stream",
     "text": [
      "Dimension 1, Volume 1.012021435546875, Execution Time [s] 0.19947290420532227\n",
      "Dimension 2, Volume 1.0149046875, Execution Time [s] 0.1926736831665039\n",
      "Dimension 3, Volume 1.02067119140625, Execution Time [s] 0.20403075218200684\n",
      "Dimension 4, Volume 0.971655908203125, Execution Time [s] 0.192915678024292\n",
      "Dimension 5, Volume 0.9803056640625001, Execution Time [s] 0.21303033828735352\n",
      "Dimension 6, Volume 0.9860721679687501, Execution Time [s] 0.1960444450378418\n",
      "Dimension 7, Volume 1.058153466796875, Execution Time [s] 0.20520710945129395\n",
      "Dimension 8, Volume 0.983188916015625, Execution Time [s] 0.19350767135620117\n",
      "Dimension 9, Volume 0.971655908203125, Execution Time [s] 0.1953423023223877\n",
      "Dimension 10, Volume 1.0177879394531248, Execution Time [s] 0.19170284271240234\n"
     ]
    }
   ],
   "source": [
    "N = 20000\n",
    "\n",
    "for dim in range(1, maxDim+1):\n",
    "    time1 = time.time()\n",
    "    volume = monteCarloIntegration(N, maxDim, f)\n",
    "    time2 = time.time()\n",
    "    print(\"Dimension {}, Volume {}, Execution Time [s] {}\".format(dim, volume, time2- time1))"
   ]
  },
  {
   "cell_type": "code",
   "execution_count": null,
   "metadata": {},
   "outputs": [],
   "source": []
  }
 ],
 "metadata": {
  "kernelspec": {
   "display_name": "Python 3",
   "language": "python",
   "name": "python3"
  },
  "language_info": {
   "codemirror_mode": {
    "name": "ipython",
    "version": 3
   },
   "file_extension": ".py",
   "mimetype": "text/x-python",
   "name": "python",
   "nbconvert_exporter": "python",
   "pygments_lexer": "ipython3",
   "version": "3.8.1"
  }
 },
 "nbformat": 4,
 "nbformat_minor": 4
}
