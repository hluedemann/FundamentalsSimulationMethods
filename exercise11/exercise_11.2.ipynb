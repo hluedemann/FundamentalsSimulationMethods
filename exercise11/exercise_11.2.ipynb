{
 "cells": [
  {
   "cell_type": "markdown",
   "metadata": {},
   "source": [
    "## Part 2"
   ]
  },
  {
   "cell_type": "code",
   "execution_count": 17,
   "metadata": {},
   "outputs": [],
   "source": [
    "import numpy as np\n",
    "from itertools import product"
   ]
  },
  {
   "cell_type": "code",
   "execution_count": 18,
   "metadata": {},
   "outputs": [],
   "source": [
    "def f(d, x):\n",
    "    res = 1\n",
    "    for i in range(d):\n",
    "        res *= 1.5 * (1 - x[i]**2)\n",
    "    return res"
   ]
  },
  {
   "cell_type": "code",
   "execution_count": 19,
   "metadata": {},
   "outputs": [],
   "source": [
    "def getPermutationMatrix(dim, n):\n",
    "    result = [[y for y in range(n)] for x in range(dim)]\n",
    "    return np.array(list(product(*result)))\n"
   ]
  },
  {
   "cell_type": "code",
   "execution_count": 20,
   "metadata": {},
   "outputs": [],
   "source": [
    "def midpoint(dim, f, n, dx):\n",
    "    x = (getPermutationMatrix(dim, n)+0.5)*dx\n",
    "\n",
    "    result = 0\n",
    "    \n",
    "    for i in range(len(x[:, 0])):\n",
    "        result += dx**dim * f(dim, x[i,:])\n",
    "        \n",
    "    return result"
   ]
  },
  {
   "cell_type": "code",
   "execution_count": 35,
   "metadata": {},
   "outputs": [],
   "source": [
    "def getRandomUniform(dim, N):\n",
    "    a = np.random.uniform(size=(N, dim+1))\n",
    "    a[:,-1] *= (3/2.)**dim\n",
    "    return a"
   ]
  },
  {
   "cell_type": "code",
   "execution_count": 36,
   "metadata": {},
   "outputs": [],
   "source": [
    "def monteCarloIntegration(N, dim, f):\n",
    "    data = getRandomUniform(dim, N)\n",
    "    \n",
    "    result = 0\n",
    "    \n",
    "    for i in range(N):\n",
    "        f_x = f(dim, data[i, 0:-1])\n",
    "        if data[i,-1] <= f_x:\n",
    "            result += 1\n",
    "    return result/float(N)*(3/2.)**dim"
   ]
  },
  {
   "cell_type": "markdown",
   "metadata": {},
   "source": [
    "### a)\n"
   ]
  },
  {
   "cell_type": "code",
   "execution_count": 37,
   "metadata": {},
   "outputs": [
    {
     "name": "stdout",
     "output_type": "stream",
     "text": [
      "Dimension 1, Volume 1.0034722222222223\n",
      "Dimension 2, Volume 1.0069565007716053\n",
      "Dimension 3, Volume 1.0104528775103947\n",
      "Dimension 4, Volume 1.0139613944461952\n",
      "Dimension 5, Volume 1.0174820937324645\n",
      "Dimension 6, Volume 1.021015017669041\n",
      "Dimension 7, Volume 1.0245602087026713\n",
      "Dimension 8, Volume 1.0281177094262457\n"
     ]
    }
   ],
   "source": [
    "n = 6\n",
    "maxDim = 8\n",
    "xlim = 1.0\n",
    "dx = xlim / n\n",
    "\n",
    "for dim in range(1, maxDim+1):\n",
    "    volume = midpoint(dim, f, n, dx)\n",
    "    print(\"Dimension {}, Volume {}\".format(dim, volume))\n",
    "\n"
   ]
  },
  {
   "cell_type": "markdown",
   "metadata": {},
   "source": [
    "### b)"
   ]
  },
  {
   "cell_type": "code",
   "execution_count": 42,
   "metadata": {},
   "outputs": [
    {
     "data": {
      "text/plain": [
       "1.00247466796875"
      ]
     },
     "execution_count": 42,
     "metadata": {},
     "output_type": "execute_result"
    }
   ],
   "source": [
    "N = 20000*10\n",
    "\n",
    "monteCarloIntegration(N, maxDim, f)"
   ]
  },
  {
   "cell_type": "code",
   "execution_count": null,
   "metadata": {},
   "outputs": [],
   "source": []
  }
 ],
 "metadata": {
  "kernelspec": {
   "display_name": "Python 3",
   "language": "python",
   "name": "python3"
  },
  "language_info": {
   "codemirror_mode": {
    "name": "ipython",
    "version": 3
   },
   "file_extension": ".py",
   "mimetype": "text/x-python",
   "name": "python",
   "nbconvert_exporter": "python",
   "pygments_lexer": "ipython3",
   "version": "3.8.1"
  }
 },
 "nbformat": 4,
 "nbformat_minor": 4
}
