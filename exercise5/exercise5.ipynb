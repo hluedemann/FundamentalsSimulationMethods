{
 "cells": [
  {
   "cell_type": "markdown",
   "metadata": {},
   "source": [
    "# Exercise 5 - Density map from a set of particles in 2D\n",
    "## Dominik Wolf, Frayja Walberg, Hauke Lüdemann"
   ]
  },
  {
   "cell_type": "code",
   "execution_count": 1,
   "metadata": {},
   "outputs": [],
   "source": [
    "import numpy as np\n",
    "import matplotlib.pyplot as plt"
   ]
  },
  {
   "cell_type": "code",
   "execution_count": 2,
   "metadata": {},
   "outputs": [],
   "source": [
    "# Define grid parameters\n",
    "H = 15\n",
    "K = 30\n",
    "M = 2.0\n",
    "cellSize = 2.0 * H / K"
   ]
  },
  {
   "cell_type": "code",
   "execution_count": 3,
   "metadata": {},
   "outputs": [],
   "source": [
    "def get_grid_indices(X):\n",
    "    \"\"\" This function calculates the grid indices of a given particle.\n",
    "    \n",
    "    Args:\n",
    "        X (np.array([x, y])): Position of the particle.\n",
    "    Returns:\n",
    "        np.array([k, l]): Indices of grid.\n",
    "    \"\"\"\n",
    "    \n",
    "    return np.floor((X + H) * K / (2 * H))\n",
    "\n",
    "def grid_center(kl):\n",
    "    \"\"\" This function returns the center of the grid cell.  \n",
    "    \n",
    "    Args:\n",
    "        kl np.array([k,l]): Indices of cell.\n",
    "    Returns:\n",
    "        np.array([x,y]): Coordinates of the center of the cell\n",
    "    \"\"\"\n",
    "    return kl - 14.5"
   ]
  },
  {
   "cell_type": "code",
   "execution_count": 4,
   "metadata": {},
   "outputs": [],
   "source": [
    "def epsilon(X, kl):\n",
    "    \"\"\" This function computes the distance to the side and the bottom of the grid cell\n",
    "        the particle is located in.\n",
    "    \n",
    "    Args:\n",
    "        X (np.array([x, y])): Position of the particle.\n",
    "        kl (np.array([k,l])): Indices of grid cell.\n",
    "    Returns:\n",
    "        np.array([ex, ey]): Distance to the left side and the bottom of the grid cell.\n",
    "    \"\"\"\n",
    "    \n",
    "    return (X - (grid_center(kl) - 0.5 * cellSize)) / cellSize"
   ]
  },
  {
   "cell_type": "code",
   "execution_count": 5,
   "metadata": {},
   "outputs": [],
   "source": [
    "def w_zeroth_order(X):\n",
    "    \"\"\" This function computes the zeroth order stencil.\n",
    "        This is just a 3x3 matrix with zeroes except for the element in the middle \n",
    "        which is 1.\n",
    "    \n",
    "     Args:\n",
    "        X (np.array([x, y])): Position of the particle.\n",
    "    Returns:\n",
    "        np.array(3x3): Weights of the stencil.\n",
    "    \"\"\"\n",
    "    \n",
    "    W = np.zeros((3,3))\n",
    "    W[1,1] = 1\n",
    "    \n",
    "    return W\n",
    "\n",
    "def w_first_order(X, kl):\n",
    "    \"\"\" This function computes the first order stencil.\n",
    "        \n",
    "     Args:\n",
    "        X (np.array([x, y])): Position of the particle.\n",
    "    Returns:\n",
    "        np.array(3x3): Weights of the stencil.\n",
    "    \"\"\"\n",
    "    \n",
    "    center = grid_center(kl)\n",
    "    W = np.zeros((3,3))\n",
    "    ex, ey = epsilon(X, kl)\n",
    "    \n",
    "    ## Take python array index convention into account\n",
    "    if center[0] < X[0] and center[1] < X[1]:\n",
    "        W[2,1] = (1.5 - ex) * (ey - 0.5)\n",
    "        W[2,2] = (ex - 0.5) * (ey - 0.5)\n",
    "        W[1,1] = (1.5 - ex) * (1.5 - ey)\n",
    "        W[1,2] = (ex - 0.5) * (1.5 - ey)\n",
    "    elif center[0] > X[0] and center[1] < X[1]:\n",
    "        W[2,0] = (0.5 - ex) * (ey - 0.5)\n",
    "        W[2,1] = (0.5 + ex) * (ey - 0.5)\n",
    "        W[1,0] = (0.5 - ex) * (1.5 - ey)\n",
    "        W[1,1] = (0.5 + ex) * (1.5 - ey)\n",
    "    elif center[0] < X[0] and center[1] > X[1]:\n",
    "        W[1,1] = (1.5 - ex) * (0.5 + ey)\n",
    "        W[1,2] = (ex - 0.5) * (0.5 + ey)\n",
    "        W[0,1] = (1.5 - ex) * (0.5 - ey)\n",
    "        W[0,2] = (ex - 0.5) * (0.5 - ey)\n",
    "    elif center[0] > X[0] and center[1] > X[1]:\n",
    "        W[1,0] = (0.5 - ex) * (0.5 + ey)\n",
    "        W[1,1] = (0.5 + ex) * (0.5 + ey)\n",
    "        W[0,0] = (0.5 - ex) * (0.5 - ey)\n",
    "        W[0,1] = (0.5 + ex) * (0.5 - ey)\n",
    "    return W\n",
    "\n",
    "def w_second_order(X, kl):\n",
    "    \"\"\" This function computes the second order stencil.\n",
    "      \n",
    "     Args:\n",
    "        X (np.array([x, y])): Position of the particle.\n",
    "        kl (np.array([k,l])): Indices of grid cell.\n",
    "    Returns:\n",
    "        np.array(3x3): Weights of the stencil.\n",
    "    \"\"\"\n",
    "    \n",
    "    ex, ey = epsilon(X, kl)\n",
    "    \n",
    "    W = np.ones((3,3))\n",
    "    W[:,0]*=0.5-ex+0.5*ex**2\n",
    "    W[:,1]*=0.5+ex-ex**2\n",
    "    W[:,2]*=0.5*ex**2\n",
    "    W[0,:]*=0.5-ey+0.5*ey**2\n",
    "    W[1,:]*=0.5+ey-ey**2\n",
    "    W[2,:]*=0.5*ey**2\n",
    "    \n",
    "    return W\n",
    "    "
   ]
  },
  {
   "cell_type": "markdown",
   "metadata": {},
   "source": [
    "### 1) Function that takes in the position of the particles and returns the indices of the cell as well as the W-matrix."
   ]
  },
  {
   "cell_type": "code",
   "execution_count": 6,
   "metadata": {},
   "outputs": [],
   "source": [
    "def particle_to_grid(X, order):\n",
    "    \"\"\" This returns the grid indices and the W-matrix given a particle position.\n",
    "    \n",
    "    Args:\n",
    "        X (np.array([x,y])): Position of the particle.\n",
    "        order (int): Order of the W-matrix.\n",
    "    Returns:\n",
    "        np.array([k,l]): Indices of grid cell the particle is in.\n",
    "        np.array(3x3): W-matrix of particle.\n",
    "    \"\"\"\n",
    "    \n",
    "    kl = get_grid_indices(X)\n",
    "    \n",
    "    if order == 0:\n",
    "        W = w_zeroth_order(X)\n",
    "    elif order == 1:\n",
    "        W = w_first_order(X, kl)\n",
    "    elif order == 2:\n",
    "        W = w_second_order(X, kl)\n",
    "        \n",
    "    return kl, W       \n",
    "        "
   ]
  },
  {
   "cell_type": "markdown",
   "metadata": {},
   "source": [
    "### 2) Single particle in the grid"
   ]
  },
  {
   "cell_type": "code",
   "execution_count": 7,
   "metadata": {},
   "outputs": [],
   "source": [
    "def get_random_particle():\n",
    "    \"\"\" This function returns a random particle located in the grid.\n",
    "        Note: The position is allways at least one cell from boundary away.\n",
    "        \n",
    "    Returns:\n",
    "        np.array([x,y]): Random position.\n",
    "    \"\"\"\n",
    "    \n",
    "    return np.random.default_rng().uniform(-14,14,2)\n",
    "\n"
   ]
  },
  {
   "cell_type": "code",
   "execution_count": 8,
   "metadata": {},
   "outputs": [],
   "source": [
    "def density_matrix(X, order):\n",
    "    \"\"\" This function determines the densitiy matrix using W.\n",
    "    \n",
    "    Args:\n",
    "        X (np.array(Nx2)): Positions of all particels.\n",
    "        order (int): Order of the W-matrix\n",
    "    Returns:\n",
    "        np.array(30x30): Density matrix of the grid\n",
    "    \"\"\"\n",
    "    \n",
    "    N = len(X)\n",
    "    denMatrix = np.zeros((30, 30))\n",
    "    \n",
    "    for i in range(0, N):\n",
    "        \n",
    "        kl, W = particle_to_grid(X[i,:], order)\n",
    "        k = int(kl[0])\n",
    "        l = int(kl[1])\n",
    "        denMatrix[l-1:l+2, k-1:k+2] += W * M / N\n",
    "        \n",
    "    return denMatrix"
   ]
  },
  {
   "cell_type": "markdown",
   "metadata": {},
   "source": [
    "#### Plot of the density matrix for one particel using the different orders of the W-matrix."
   ]
  },
  {
   "cell_type": "code",
   "execution_count": 9,
   "metadata": {},
   "outputs": [
    {
     "data": {
      "image/png": "[encoded data removed]",
      "text/plain": [
       "<Figure size 1440x360 with 6 Axes>"
      ]
     },
     "metadata": {
      "needs_background": "light"
     },
     "output_type": "display_data"
    }
   ],
   "source": [
    "point = get_random_particle().reshape(1,2)\n",
    "denMatrix0 = density_matrix(point, 0)\n",
    "point = get_random_particle().reshape(1,2)\n",
    "denMatrix1 = density_matrix(point, 1)\n",
    "point = get_random_particle().reshape(1,2)\n",
    "denMatrix2 = density_matrix(point, 2)\n",
    "\n",
    "\n",
    "# Generate the k,l grid\n",
    "y, x = np.meshgrid(np.linspace(0, K-1, K), np.linspace(0, K-1, K))\n",
    "\n",
    "fig, ax = plt.subplots(1, 3, figsize=(20, 5))\n",
    "\n",
    "c0 = ax[0].pcolormesh(x, y, denMatrix0.T, cmap='Blues')\n",
    "c1 = ax[1].pcolormesh(x, y, denMatrix1.T, cmap='Blues')\n",
    "c2 = ax[2].pcolormesh(x, y, denMatrix2.T, cmap='Blues')\n",
    "\n",
    "ax[0].set_title(\"Zeroth order stencil\")\n",
    "ax[1].set_title(\"First order stencil\")\n",
    "ax[2].set_title(\"Second order stencil\")\n",
    "\n",
    "# set the limits of the plot to the limits of the data\n",
    "ax[0].axis([x.min(), x.max(), y.min(), y.max()])\n",
    "ax[1].axis([x.min(), x.max(), y.min(), y.max()])\n",
    "ax[2].axis([x.min(), x.max(), y.min(), y.max()])\n",
    "\n",
    "fig.colorbar(c0, ax=ax[0])\n",
    "fig.colorbar(c1, ax=ax[1])\n",
    "fig.colorbar(c2, ax=ax[2])\n",
    "\n",
    "plt.show()\n"
   ]
  },
  {
   "cell_type": "markdown",
   "metadata": {},
   "source": [
    "### 3) 100 particels following a 2D gaussian distribution"
   ]
  },
  {
   "cell_type": "code",
   "execution_count": 10,
   "metadata": {},
   "outputs": [],
   "source": [
    "## Get random points following a gaussian distribution\n",
    "\n",
    "def gaussian_random_points(N, sigma):\n",
    "    \"\"\" This function returns random points following a 2d gaussian distribution.\n",
    "    \"\"\"\n",
    "    \n",
    "    points = np.random.normal(0.0, sigma, 2).reshape(1,2)\n",
    "\n",
    "    for _ in range(0, N - 1):\n",
    "        p = np.random.normal(0.0, sigma, 2)\n",
    "\n",
    "        if p[0] <= -14.0 or p[1] <= -14.0 or p[0] >= 14.0 or p[1] >= 14.0:\n",
    "            continue\n",
    "        else:\n",
    "            points = np.append(points, [p], axis=0)\n",
    "\n",
    "    return points"
   ]
  },
  {
   "cell_type": "code",
   "execution_count": 11,
   "metadata": {},
   "outputs": [
    {
     "data": {
      "image/png": "[encoded data removed]",
      "text/plain": [
       "<Figure size 1440x360 with 6 Axes>"
      ]
     },
     "metadata": {
      "needs_background": "light"
     },
     "output_type": "display_data"
    }
   ],
   "source": [
    "N = 100\n",
    "sigma = 4.0\n",
    "\n",
    "points = gaussian_random_points(N, sigma)\n",
    "\n",
    "denMatrix0 = density_matrix(points, 0)\n",
    "denMatrix1 = density_matrix(points, 1)\n",
    "denMatrix2 = density_matrix(points, 2)\n",
    "\n",
    "\n",
    "# Generate the k,l grid\n",
    "y, x = np.meshgrid(np.linspace(0, K-1, K), np.linspace(0, K-1, K))\n",
    "\n",
    "fig, ax = plt.subplots(1, 3, figsize=(20, 5))\n",
    "\n",
    "c0 = ax[0].pcolormesh(x, y, denMatrix0.T, cmap='Blues')\n",
    "c1 = ax[1].pcolormesh(x, y, denMatrix1.T, cmap='Blues')\n",
    "c2 = ax[2].pcolormesh(x, y, denMatrix2.T, cmap='Blues')\n",
    "\n",
    "ax[0].set_title(\"Zeroth order stencil\")\n",
    "ax[1].set_title(\"First order stencil\")\n",
    "ax[2].set_title(\"Second order stencil\")\n",
    "\n",
    "# set the limits of the plot to the limits of the data\n",
    "ax[0].axis([x.min(), x.max(), y.min(), y.max()])\n",
    "ax[1].axis([x.min(), x.max(), y.min(), y.max()])\n",
    "ax[2].axis([x.min(), x.max(), y.min(), y.max()])\n",
    "\n",
    "fig.colorbar(c0, ax=ax[0])\n",
    "fig.colorbar(c1, ax=ax[1])\n",
    "fig.colorbar(c2, ax=ax[2])\n",
    "\n",
    "plt.show()\n"
   ]
  },
  {
   "cell_type": "markdown",
   "metadata": {},
   "source": [
    "It can be nicely seen that using a stencil of higher order smoothes the mass desnity distribution. "
   ]
  },
  {
   "cell_type": "markdown",
   "metadata": {},
   "source": [
    "### 4) 10000 particles in the grid"
   ]
  },
  {
   "cell_type": "code",
   "execution_count": 12,
   "metadata": {},
   "outputs": [],
   "source": [
    "## Add 10000 particels to the grid\n",
    "\n",
    "N = 10000\n",
    "sigma = 4.0\n",
    "\n",
    "points = gaussian_random_points(N, sigma)\n",
    "\n",
    "denMatrix0 = density_matrix(points, 0)\n",
    "denMatrix1 = density_matrix(points, 1)\n",
    "denMatrix2 = density_matrix(points, 2)\n"
   ]
  },
  {
   "cell_type": "code",
   "execution_count": 13,
   "metadata": {},
   "outputs": [
    {
     "data": {
      "image/png": "[encoded data removed]",
      "text/plain": [
       "<Figure size 1440x360 with 6 Axes>"
      ]
     },
     "metadata": {
      "needs_background": "light"
     },
     "output_type": "display_data"
    }
   ],
   "source": [
    "## Plot the density mtrices\n",
    "\n",
    "y, x = np.meshgrid(np.linspace(0, K-1, K), np.linspace(0, K-1, K))\n",
    "\n",
    "fig, ax = plt.subplots(1, 3, figsize=(20, 5))\n",
    "\n",
    "c0 = ax[0].pcolormesh(x, y, denMatrix0.T, cmap='Blues')\n",
    "c1 = ax[1].pcolormesh(x, y, denMatrix1.T, cmap='Blues')\n",
    "c2 = ax[2].pcolormesh(x, y, denMatrix2.T, cmap='Blues')\n",
    "\n",
    "ax[0].set_title(\"Zeroth order stencil\")\n",
    "ax[1].set_title(\"First order stencil\")\n",
    "ax[2].set_title(\"Second order stencil\")\n",
    "\n",
    "# set the limits of the plot to the limits of the data\n",
    "ax[0].axis([x.min(), x.max(), y.min(), y.max()])\n",
    "ax[1].axis([x.min(), x.max(), y.min(), y.max()])\n",
    "ax[2].axis([x.min(), x.max(), y.min(), y.max()])\n",
    "\n",
    "fig.colorbar(c0, ax=ax[0])\n",
    "fig.colorbar(c1, ax=ax[1])\n",
    "fig.colorbar(c2, ax=ax[2])\n",
    "\n",
    "plt.show()"
   ]
  },
  {
   "cell_type": "markdown",
   "metadata": {},
   "source": [
    "Plotting the mass density distributions of 10000 particles using the different orders of stencils also illustrates that a higher order stencil smoothes the distribution."
   ]
  },
  {
   "cell_type": "code",
   "execution_count": 14,
   "metadata": {},
   "outputs": [
    {
     "name": "stdout",
     "output_type": "stream",
     "text": [
      "Zeroths order:  1.9999999999999991\n",
      "First order:  2.0\n",
      "Second order:  2.0\n"
     ]
    }
   ],
   "source": [
    "## Sum up total mass to validate the reult\n",
    "\n",
    "print(\"Zeroths order: \", np.sum(denMatrix0))\n",
    "print(\"First order: \", np.sum(denMatrix1))\n",
    "print(\"Second order: \", np.sum(denMatrix2))"
   ]
  },
  {
   "cell_type": "markdown",
   "metadata": {},
   "source": [
    "The integral (sum) over the mass density function should give $M=2.0$. Slight differences can occure due to some particles that get rejected because they are outside of the grid."
   ]
  },
  {
   "cell_type": "code",
   "execution_count": null,
   "metadata": {},
   "outputs": [],
   "source": []
  }
 ],
 "metadata": {
  "kernelspec": {
   "display_name": "Python 3",
   "language": "python",
   "name": "python3"
  },
  "language_info": {
   "codemirror_mode": {
    "name": "ipython",
    "version": 3
   },
   "file_extension": ".py",
   "mimetype": "text/x-python",
   "name": "python",
   "nbconvert_exporter": "python",
   "pygments_lexer": "ipython3",
   "version": "3.7.4"
  }
 },
 "nbformat": 4,
 "nbformat_minor": 4
}
